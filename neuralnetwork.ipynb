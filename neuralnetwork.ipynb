{
 "cells": [
  {
   "cell_type": "code",
   "execution_count": null,
   "metadata": {
    "collapsed": true
   },
   "outputs": [],
   "source": [
    "import numpy as np\n",
    "import scipy.special\n",
    "\n",
    "class neuralNetwork:\n",
    "    def __init__(self,inputnodes, hiddennodes, outputnodes, learningrate):\n",
    "        self.inodes = inputnodes\n",
    "        self.hiddennodes = hiddennodes\n",
    "        self.outputnodes = outputnodes\n",
    "        self.lr = learningrate\n",
    "        self.wih = np.random.normal(0, pow(self.hnodes, -0.5), (self.hnodes, self.inodes))\n",
    "        self.who = np.random.normal(0, pow(self.onodes, -0.5), (self.onodes, self.hnodes))\n",
    "        self.activation_function = lambda x : scipy.special.expit(x)\n",
    "        pass\n",
    "    def train(self, inputs_list, targets_list):\n",
    "        inputs = np.array(inputs_list, ndim=2).T\n",
    "        hidden_inputs = np.dot(self.wih, inputs)\n",
    "        hidden_outputs = self.activation_function(hidden_outputs)\n",
    "        final_inputs = np.dot(self.who, hidden_outputs)\n",
    "        final_outputs = self.activation_function(final_inputs)\n",
    "        \n",
    "        targets = np.array(targets_list, ndim=2).T\n",
    "        output_errors = targets - final_outputs\n",
    "        hidden_errors = np.dot(self.who.T, output_errors)\n",
    "        \n",
    "        self.who = self.who + self.lr * np.dot((output_errors * final_outputs*(1-final_outputs)), np.transpose(hidden_outputs))\n",
    "        self.wih = self.wih + self.lr * np.dot((hidden_errors * hidden_outputs*(1-hidden_outputs)), np.transpose(inputs))\n",
    "        pass\n",
    "    def query(self, inputs_list):\n",
    "        inputs = np.array(inputs_list, ndim=2).T\n",
    "        hidden_inputs = np.dot(self.wih, inputs)\n",
    "        hidden_outputs = self.activate_function(hidden_inputs)\n",
    "        final_inputs = np.dot(self.who, hidden_outputs)\n",
    "        final_outputs = self.activation_function(final_outputs)\n",
    "        return final_outputs\n",
    "    "
   ]
  }
 ],
 "metadata": {
  "kernelspec": {
   "display_name": "Python 3",
   "language": "python",
   "name": "python3"
  },
  "language_info": {
   "codemirror_mode": {
    "name": "ipython",
    "version": 3
   },
   "file_extension": ".py",
   "mimetype": "text/x-python",
   "name": "python",
   "nbconvert_exporter": "python",
   "pygments_lexer": "ipython3",
   "version": "3.6.3"
  }
 },
 "nbformat": 4,
 "nbformat_minor": 1
}
